{
 "cells": [
  {
   "cell_type": "markdown",
   "id": "ab9cbd56-68ee-453e-aa6f-0ddd9fcce4d9",
   "metadata": {},
   "source": [
    "### Initiating data class"
   ]
  },
  {
   "cell_type": "code",
   "execution_count": 89,
   "id": "956584c5-ce5e-49ea-9970-99b31ae637b4",
   "metadata": {},
   "outputs": [],
   "source": [
    "import random\n",
    "\n",
    "class Sentiment:\n",
    "    NEGATIVE = 'NEGATIVE'\n",
    "    NEUTRAL = 'NEUTRAL'\n",
    "    POSITIVE = 'POSITIVE'\n",
    "\n",
    "class Review:\n",
    "    def __init__(self, text, score):\n",
    "        self.text = text\n",
    "        self.score = score\n",
    "        self.sentiment = self.get_sentiment()\n",
    "        \n",
    "    def get_sentiment(self):\n",
    "        if self.score <= 2:\n",
    "            return Sentiment.NEGATIVE\n",
    "        elif self.score == 3:\n",
    "            return Sentiment.NEUTRAL\n",
    "        else:\n",
    "            return Sentiment.POSITIVE\n",
    "        \n",
    "class ReviewContainer:\n",
    "    def __init__(self, reviews):\n",
    "        self.reviews = reviews\n",
    "        \n",
    "    def get_text(self):\n",
    "        return [x.text for x in self.reviews]\n",
    "    \n",
    "    def get_sentiment(self):\n",
    "        return [x.sentiment for x in self.reviews]\n",
    "        \n",
    "    def evenly_distribute(self):\n",
    "        negative = list(filter(lambda x: x.sentiment == Sentiment.NEGATIVE, self.reviews))\n",
    "        positive = list(filter(lambda x: x.sentiment == Sentiment.POSITIVE, self.reviews))\n",
    "        \n",
    "        positive_shrunk = positive[:len(negative)]\n",
    "        \n",
    "        self.reviews = negative + positive_shrunk\n",
    "        \n",
    "        random.shuffle(self.reviews)"
   ]
  },
  {
   "cell_type": "markdown",
   "id": "449daf24-9b66-4697-a265-8ba6531aa5f2",
   "metadata": {},
   "source": [
    "### Loading json data"
   ]
  },
  {
   "cell_type": "code",
   "execution_count": 63,
   "id": "86e252d0-3374-4a23-87f4-c873afb79dfa",
   "metadata": {},
   "outputs": [
    {
     "data": {
      "text/plain": [
       "'NEUTRAL'"
      ]
     },
     "execution_count": 63,
     "metadata": {},
     "output_type": "execute_result"
    }
   ],
   "source": [
    "import json\n",
    "\n",
    "filepath = './dataset/Books_small_10000.json'\n",
    "\n",
    "reviews = []\n",
    "\n",
    "with open(filepath) as file:\n",
    "    for line in file:\n",
    "        review = json.loads(line)\n",
    "        reviews.append(Review(review['reviewText'], review['overall']))\n",
    "        \n",
    "reviews[1].sentiment"
   ]
  },
  {
   "cell_type": "markdown",
   "id": "b64db771-48c7-4905-9ab9-b206f3bd6f72",
   "metadata": {},
   "source": [
    "### Preparing Data"
   ]
  },
  {
   "cell_type": "markdown",
   "id": "e4ac956f-b00a-45ca-9dbb-854055953c44",
   "metadata": {},
   "source": [
    "#### Spliting data into train and test set"
   ]
  },
  {
   "cell_type": "code",
   "execution_count": 82,
   "id": "5662724c-da46-4a64-811e-ffa0a3030785",
   "metadata": {},
   "outputs": [],
   "source": [
    "from sklearn.model_selection import train_test_split\n",
    "\n",
    "train, test = train_test_split(reviews, test_size=0.33, random_state=42)"
   ]
  },
  {
   "cell_type": "code",
   "execution_count": 65,
   "id": "6a2996f3-0aa6-4851-9303-4a30383f62ee",
   "metadata": {},
   "outputs": [
    {
     "data": {
      "text/plain": [
       "(6700, 3300)"
      ]
     },
     "execution_count": 65,
     "metadata": {},
     "output_type": "execute_result"
    }
   ],
   "source": [
    "len(train), len(test)"
   ]
  },
  {
   "cell_type": "markdown",
   "id": "f59f53e9-ef7a-4d28-a7cb-8208fb152c18",
   "metadata": {},
   "source": [
    "#### Evenly distribute negative and positive"
   ]
  },
  {
   "cell_type": "code",
   "execution_count": 90,
   "id": "a375220d-4756-4513-8103-509fcf1ead89",
   "metadata": {},
   "outputs": [],
   "source": [
    "train_cont = ReviewContainer(train)\n",
    "train_cont.evenly_distribute()\n",
    "\n",
    "test_cont = ReviewContainer(test)\n",
    "test_cont.evenly_distribute()"
   ]
  },
  {
   "cell_type": "code",
   "execution_count": 91,
   "id": "580e418a-6bf3-40ed-af61-7ed9ccc4c9cc",
   "metadata": {},
   "outputs": [
    {
     "data": {
      "text/plain": [
       "416"
      ]
     },
     "execution_count": 91,
     "metadata": {},
     "output_type": "execute_result"
    }
   ],
   "source": [
    "len(test_cont.reviews)"
   ]
  },
  {
   "cell_type": "code",
   "execution_count": 66,
   "id": "d401aaa3-14ca-4116-b55a-808f4d98f557",
   "metadata": {},
   "outputs": [
    {
     "data": {
      "text/plain": [
       "'POSITIVE'"
      ]
     },
     "execution_count": 66,
     "metadata": {},
     "output_type": "execute_result"
    }
   ],
   "source": [
    "train[1].text\n",
    "train[1].sentiment"
   ]
  },
  {
   "cell_type": "code",
   "execution_count": 67,
   "id": "3b8f28d3-81d5-406a-8962-6c2c5c11906b",
   "metadata": {},
   "outputs": [],
   "source": [
    "## Extracting text and sentiment from train and test data\n",
    "\n",
    "# train_x = [x.text for x in train]\n",
    "# train_y = [x.sentiment for x in train]\n",
    "\n",
    "# test_x = [x.text for x in test]\n",
    "# test_y = [x.sentiment for x in test]"
   ]
  },
  {
   "cell_type": "code",
   "execution_count": 95,
   "id": "6262d553-9afa-42ee-bbd2-0339f5557eef",
   "metadata": {},
   "outputs": [],
   "source": [
    "train_x = train_cont.get_text()\n",
    "train_y = train_cont.get_sentiment()\n",
    "\n",
    "test_x = test_cont.get_text()\n",
    "test_y = test_cont.get_sentiment()"
   ]
  },
  {
   "cell_type": "code",
   "execution_count": 96,
   "id": "12c230e3-d697-4839-8d80-09328c817a9a",
   "metadata": {},
   "outputs": [
    {
     "data": {
      "text/plain": [
       "(436, 436)"
      ]
     },
     "execution_count": 96,
     "metadata": {},
     "output_type": "execute_result"
    }
   ],
   "source": [
    "train_y.count(Sentiment.POSITIVE), train_y.count(Sentiment.NEGATIVE)"
   ]
  },
  {
   "cell_type": "markdown",
   "id": "d8aff755-1997-4c72-8cd6-46a2648ff15b",
   "metadata": {},
   "source": [
    "### Bags of words vectorizer"
   ]
  },
  {
   "cell_type": "code",
   "execution_count": 111,
   "id": "cb9976ac-9cec-45fe-9af9-74fa357ebf42",
   "metadata": {},
   "outputs": [],
   "source": [
    "from sklearn.feature_extraction.text import CountVectorizer, TfidfVectorizer\n",
    "\n",
    "vectorizer = TfidfVectorizer()\n",
    "\n",
    "train_x_vector = vectorizer.fit_transform(train_x)\n",
    "test_x_vector = vectorizer.transform(test_x)"
   ]
  },
  {
   "cell_type": "markdown",
   "id": "9ab00662-9890-457a-8ab8-f8261a590ef3",
   "metadata": {},
   "source": [
    "### Classifications\n",
    "#### Linear SVM model"
   ]
  },
  {
   "cell_type": "code",
   "execution_count": 112,
   "id": "8415a511-0a99-44fc-92fe-0f7e66c44ab3",
   "metadata": {},
   "outputs": [
    {
     "data": {
      "text/plain": [
       "SVC(kernel='linear')"
      ]
     },
     "execution_count": 112,
     "metadata": {},
     "output_type": "execute_result"
    }
   ],
   "source": [
    "from sklearn import svm\n",
    "\n",
    "clf_svm = svm.SVC(kernel='linear')\n",
    "clf_svm.fit(train_x_vector, train_y)"
   ]
  },
  {
   "cell_type": "code",
   "execution_count": 113,
   "id": "331810ef-194b-4e17-8763-be1b7769c9f7",
   "metadata": {},
   "outputs": [
    {
     "data": {
      "text/plain": [
       "\"I wish there was a negative rating. This is quite possibly the worst book I've ever read. Almost incomprehensible, and stupid to boot. Wish I had that hour back.\""
      ]
     },
     "execution_count": 113,
     "metadata": {},
     "output_type": "execute_result"
    }
   ],
   "source": [
    "test_x[0]"
   ]
  },
  {
   "cell_type": "code",
   "execution_count": 114,
   "id": "77ea8c49-7d72-4c06-a63a-2e1e17dbefd3",
   "metadata": {},
   "outputs": [
    {
     "data": {
      "text/plain": [
       "array(['POSITIVE'], dtype='<U8')"
      ]
     },
     "execution_count": 114,
     "metadata": {},
     "output_type": "execute_result"
    }
   ],
   "source": [
    "clf_svm.predict(test_x_vector[0])"
   ]
  },
  {
   "cell_type": "markdown",
   "id": "7f003f72-4dcd-4ab2-b11d-08a415948bf6",
   "metadata": {},
   "source": [
    "#### Decision Tree"
   ]
  },
  {
   "cell_type": "code",
   "execution_count": 115,
   "id": "bf707669-101c-47bb-bfed-a93b0db6b019",
   "metadata": {},
   "outputs": [
    {
     "data": {
      "text/plain": [
       "DecisionTreeClassifier()"
      ]
     },
     "execution_count": 115,
     "metadata": {},
     "output_type": "execute_result"
    }
   ],
   "source": [
    "from sklearn.tree import DecisionTreeClassifier\n",
    "\n",
    "clf_tree = DecisionTreeClassifier()\n",
    "clf_tree.fit(train_x_vector, train_y)"
   ]
  },
  {
   "cell_type": "code",
   "execution_count": 116,
   "id": "661ef48b-f7cd-44aa-bea8-dbb811be9e44",
   "metadata": {},
   "outputs": [
    {
     "data": {
      "text/plain": [
       "array(['NEGATIVE'], dtype='<U8')"
      ]
     },
     "execution_count": 116,
     "metadata": {},
     "output_type": "execute_result"
    }
   ],
   "source": [
    "clf_tree.predict(test_x_vector[0])"
   ]
  },
  {
   "cell_type": "markdown",
   "id": "98b44cd3-ff34-4fda-bd33-8b590b7b8f73",
   "metadata": {},
   "source": [
    "#### Nïve Bayes"
   ]
  },
  {
   "cell_type": "code",
   "execution_count": 117,
   "id": "7148afe5-32e3-4813-b1fd-0cb3e01a6864",
   "metadata": {},
   "outputs": [],
   "source": [
    "# from sklearn.naive_bayes import GaussianNB\n",
    "\n",
    "# clf_gnb = GaussianNB()"
   ]
  },
  {
   "cell_type": "code",
   "execution_count": 118,
   "id": "f60a8b4b-3601-4823-83aa-243b97c6cd1c",
   "metadata": {},
   "outputs": [],
   "source": [
    "# clf_gnb.fit(train_x_vector, train_y)"
   ]
  },
  {
   "cell_type": "code",
   "execution_count": null,
   "id": "dd905356-bef5-43b7-b6ca-6d4731e48193",
   "metadata": {},
   "outputs": [],
   "source": []
  },
  {
   "cell_type": "markdown",
   "id": "8c62bf4e-8e63-4b0c-91c4-fbcab305d2dd",
   "metadata": {},
   "source": [
    "#### Logistic Regression"
   ]
  },
  {
   "cell_type": "code",
   "execution_count": 119,
   "id": "e0ac3f8b-a89d-4326-b005-ce2ac29c5f98",
   "metadata": {},
   "outputs": [
    {
     "data": {
      "text/plain": [
       "LogisticRegression()"
      ]
     },
     "execution_count": 119,
     "metadata": {},
     "output_type": "execute_result"
    }
   ],
   "source": [
    "from sklearn.linear_model import LogisticRegression\n",
    "\n",
    "clf_log = LogisticRegression()\n",
    "clf_log.fit(train_x_vector, train_y)"
   ]
  },
  {
   "cell_type": "code",
   "execution_count": 120,
   "id": "3628b5bb-22ff-47b2-afe5-0fefdbd9022b",
   "metadata": {},
   "outputs": [
    {
     "data": {
      "text/plain": [
       "array(['POSITIVE'], dtype='<U8')"
      ]
     },
     "execution_count": 120,
     "metadata": {},
     "output_type": "execute_result"
    }
   ],
   "source": [
    "clf_log.predict(test_x_vector[0])"
   ]
  },
  {
   "cell_type": "markdown",
   "id": "db6a332f-681b-4393-b3ae-25b61f838cdd",
   "metadata": {},
   "source": [
    "### Evaluation"
   ]
  },
  {
   "cell_type": "code",
   "execution_count": 121,
   "id": "10d40dcc-90bf-472b-9c4f-13a8852f7e93",
   "metadata": {},
   "outputs": [
    {
     "name": "stdout",
     "output_type": "stream",
     "text": [
      "0.9885321100917431\n",
      "1.0\n",
      "0.9655963302752294\n"
     ]
    }
   ],
   "source": [
    "# Mean Accuracy Score\n",
    "print(clf_svm.score(train_x_vector, train_y))\n",
    "print(clf_tree.score(train_x_vector, train_y))\n",
    "print(clf_log.score(train_x_vector, train_y))"
   ]
  },
  {
   "cell_type": "code",
   "execution_count": 122,
   "id": "c8a89160-8729-419a-8661-68187fe8cacc",
   "metadata": {},
   "outputs": [
    {
     "name": "stdout",
     "output_type": "stream",
     "text": [
      "[0.80582524 0.80952381]\n",
      "[0.64691358 0.66510539]\n",
      "[0.80291971 0.80760095]\n"
     ]
    }
   ],
   "source": [
    "# F1 Scores --> **important\n",
    "from sklearn.metrics import f1_score\n",
    "\n",
    "print(f1_score(test_y, clf_svm.predict(test_x_vector), average=None, labels=[Sentiment.POSITIVE, Sentiment.NEGATIVE]))\n",
    "print(f1_score(test_y, clf_tree.predict(test_x_vector), average=None, labels=[Sentiment.POSITIVE, Sentiment.NEGATIVE]))\n",
    "print(f1_score(test_y, clf_log.predict(test_x_vector), average=None, labels=[Sentiment.POSITIVE, Sentiment.NEGATIVE]))"
   ]
  },
  {
   "cell_type": "markdown",
   "id": "28afb4d9-290d-46e3-8a20-ead1ab0f1da0",
   "metadata": {},
   "source": [
    "### Testing the model"
   ]
  },
  {
   "cell_type": "code",
   "execution_count": 125,
   "id": "83a3c7c6-4a1f-4b4b-9b36-10e1d80411c8",
   "metadata": {},
   "outputs": [
    {
     "data": {
      "text/plain": [
       "array(['POSITIVE', 'NEGATIVE', 'NEGATIVE', 'POSITIVE'], dtype='<U8')"
      ]
     },
     "execution_count": 125,
     "metadata": {},
     "output_type": "execute_result"
    }
   ],
   "source": [
    "test_set = ['I thoroughly enjoyed this book', 'bad book do not buy', 'horrible waste of time', 'It is brilliant']\n",
    "new_test = vectorizer.transform(test_set)\n",
    "clf_svm.predict(new_test)"
   ]
  },
  {
   "cell_type": "markdown",
   "id": "8d3f0e51-459e-443a-bd13-368871e2d80c",
   "metadata": {},
   "source": [
    "### Tuning the model with Grid Search"
   ]
  },
  {
   "cell_type": "code",
   "execution_count": 126,
   "id": "58fa89ec-4e00-4007-8400-d48066ef6067",
   "metadata": {},
   "outputs": [
    {
     "data": {
      "text/plain": [
       "GridSearchCV(cv=5, estimator=SVC(),\n",
       "             param_grid={'C': (1, 4, 8, 16, 32),\n",
       "                         'kernel': ('linear', 'poly', 'rbf', 'sigmoid')})"
      ]
     },
     "execution_count": 126,
     "metadata": {},
     "output_type": "execute_result"
    }
   ],
   "source": [
    "from sklearn.model_selection import GridSearchCV\n",
    "\n",
    "parameters = {'kernel': ('linear', 'poly', 'rbf', 'sigmoid'), 'C': (1,4,8,16,32)}\n",
    "\n",
    "svc = svm.SVC()\n",
    "clf = GridSearchCV(svc, parameters, cv=5)\n",
    "clf.fit(train_x_vector, train_y)"
   ]
  },
  {
   "cell_type": "code",
   "execution_count": 140,
   "id": "620418bc-43bb-4b62-82f1-573d5d466b13",
   "metadata": {},
   "outputs": [
    {
     "data": {
      "text/plain": [
       "1.0"
      ]
     },
     "execution_count": 140,
     "metadata": {},
     "output_type": "execute_result"
    }
   ],
   "source": [
    "clf.score(train_x_vector, train_y)"
   ]
  },
  {
   "cell_type": "code",
   "execution_count": 141,
   "id": "f9619f73-8109-4072-ab0e-4273e594f079",
   "metadata": {},
   "outputs": [
    {
     "data": {
      "text/plain": [
       "{'cv': 5,\n",
       " 'error_score': nan,\n",
       " 'estimator__C': 1.0,\n",
       " 'estimator__break_ties': False,\n",
       " 'estimator__cache_size': 200,\n",
       " 'estimator__class_weight': None,\n",
       " 'estimator__coef0': 0.0,\n",
       " 'estimator__decision_function_shape': 'ovr',\n",
       " 'estimator__degree': 3,\n",
       " 'estimator__gamma': 'scale',\n",
       " 'estimator__kernel': 'rbf',\n",
       " 'estimator__max_iter': -1,\n",
       " 'estimator__probability': False,\n",
       " 'estimator__random_state': None,\n",
       " 'estimator__shrinking': True,\n",
       " 'estimator__tol': 0.001,\n",
       " 'estimator__verbose': False,\n",
       " 'estimator': SVC(),\n",
       " 'n_jobs': None,\n",
       " 'param_grid': {'kernel': ('linear', 'poly', 'rbf', 'sigmoid'),\n",
       "  'C': (1, 4, 8, 16, 32)},\n",
       " 'pre_dispatch': '2*n_jobs',\n",
       " 'refit': True,\n",
       " 'return_train_score': False,\n",
       " 'scoring': None,\n",
       " 'verbose': 0}"
      ]
     },
     "execution_count": 141,
     "metadata": {},
     "output_type": "execute_result"
    }
   ],
   "source": [
    "clf.get_params()"
   ]
  },
  {
   "cell_type": "markdown",
   "id": "03d7c801-302b-41fe-9bc8-4e0945ceacb8",
   "metadata": {},
   "source": [
    "### Saving the model"
   ]
  },
  {
   "cell_type": "code",
   "execution_count": 142,
   "id": "e4f14bdb-6b00-4739-9090-d1079a17fed9",
   "metadata": {},
   "outputs": [],
   "source": [
    "import pickle"
   ]
  },
  {
   "cell_type": "code",
   "execution_count": 144,
   "id": "a777b665-2314-4523-aa43-bc2c72d7fcdb",
   "metadata": {},
   "outputs": [],
   "source": [
    "with open('/Users/abdullahalmomin/Documents/PROJECTS/sklearn_model/sentiment_classifier.pkl', 'wb') as f:\n",
    "    pickle.dump(clf, f)"
   ]
  },
  {
   "cell_type": "markdown",
   "id": "b0278347-aaa2-4165-856a-782574e440a3",
   "metadata": {},
   "source": [
    "### Load the file"
   ]
  },
  {
   "cell_type": "code",
   "execution_count": 145,
   "id": "e1c7cf63-10eb-4420-99a8-ab45511991bb",
   "metadata": {},
   "outputs": [],
   "source": [
    "with open('/Users/abdullahalmomin/Documents/PROJECTS/sklearn_model/sentiment_classifier.pkl', 'rb') as f:\n",
    "    loaded_clf = pickle.load(f)\n"
   ]
  },
  {
   "cell_type": "code",
   "execution_count": 147,
   "id": "9ae110e8-d525-4f80-ba32-18c1e337e2c8",
   "metadata": {},
   "outputs": [
    {
     "name": "stdout",
     "output_type": "stream",
     "text": [
      "I wish there was a negative rating. This is quite possibly the worst book I've ever read. Almost incomprehensible, and stupid to boot. Wish I had that hour back.\n"
     ]
    },
    {
     "data": {
      "text/plain": [
       "array(['POSITIVE'], dtype='<U8')"
      ]
     },
     "execution_count": 147,
     "metadata": {},
     "output_type": "execute_result"
    }
   ],
   "source": [
    "print(test_x[0])\n",
    "loaded_clf.predict(test_x_vector[0])"
   ]
  },
  {
   "cell_type": "code",
   "execution_count": null,
   "id": "df86d26b-1145-4ccb-bedd-eaabaa88bd3d",
   "metadata": {},
   "outputs": [],
   "source": []
  }
 ],
 "metadata": {
  "kernelspec": {
   "display_name": "Python 3 (ipykernel)",
   "language": "python",
   "name": "python3"
  },
  "language_info": {
   "codemirror_mode": {
    "name": "ipython",
    "version": 3
   },
   "file_extension": ".py",
   "mimetype": "text/x-python",
   "name": "python",
   "nbconvert_exporter": "python",
   "pygments_lexer": "ipython3",
   "version": "3.10.1"
  }
 },
 "nbformat": 4,
 "nbformat_minor": 5
}
